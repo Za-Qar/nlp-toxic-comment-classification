{
 "cells": [
  {
   "cell_type": "markdown",
   "id": "7bc24570-12ca-4f00-a19d-d35fccec8fc8",
   "metadata": {},
   "source": [
    "## Introduction\n",
    "\n",
    "#### Problem Statement\n",
    "\n",
    "#### Motivation\n",
    "\n",
    "#### Approach\n",
    "\n",
    "#### Libraries"
   ]
  },
  {
   "cell_type": "markdown",
   "id": "b099f91e-fae0-41c7-b6b6-c48297f413a4",
   "metadata": {},
   "source": [
    "### Install Libraries"
   ]
  },
  {
   "cell_type": "code",
   "execution_count": 120,
   "id": "1a05b03e-5ebf-4624-b460-1e0e2ff85360",
   "metadata": {},
   "outputs": [
    {
     "name": "stdout",
     "output_type": "stream",
     "text": [
      "Requirement already satisfied: pandas in c:\\users\\zaid.qarout\\appdata\\local\\miniconda3\\envs\\jupyter-env\\lib\\site-packages (from -r requirements.txt (line 1)) (2.2.2)\n",
      "Requirement already satisfied: numpy in c:\\users\\zaid.qarout\\appdata\\local\\miniconda3\\envs\\jupyter-env\\lib\\site-packages (from -r requirements.txt (line 2)) (1.26.4)\n",
      "Requirement already satisfied: matplotlib in c:\\users\\zaid.qarout\\appdata\\local\\miniconda3\\envs\\jupyter-env\\lib\\site-packages (from -r requirements.txt (line 3)) (3.10.3)\n",
      "Requirement already satisfied: scikit-learn in c:\\users\\zaid.qarout\\appdata\\local\\miniconda3\\envs\\jupyter-env\\lib\\site-packages (from -r requirements.txt (line 4)) (1.7.0)\n",
      "Requirement already satisfied: gensim in c:\\users\\zaid.qarout\\appdata\\local\\miniconda3\\envs\\jupyter-env\\lib\\site-packages (from -r requirements.txt (line 5)) (4.3.3)\n",
      "Requirement already satisfied: tqdm in c:\\users\\zaid.qarout\\appdata\\local\\miniconda3\\envs\\jupyter-env\\lib\\site-packages (from -r requirements.txt (line 6)) (4.67.1)\n",
      "Requirement already satisfied: nltk in c:\\users\\zaid.qarout\\appdata\\local\\miniconda3\\envs\\jupyter-env\\lib\\site-packages (from -r requirements.txt (line 7)) (3.9.1)\n",
      "Requirement already satisfied: spacy in c:\\users\\zaid.qarout\\appdata\\local\\miniconda3\\envs\\jupyter-env\\lib\\site-packages (from -r requirements.txt (line 8)) (3.8.7)\n",
      "Requirement already satisfied: textblob in c:\\users\\zaid.qarout\\appdata\\local\\miniconda3\\envs\\jupyter-env\\lib\\site-packages (from -r requirements.txt (line 9)) (0.19.0)\n",
      "Collecting seaborn (from -r requirements.txt (line 10))\n",
      "  Downloading seaborn-0.13.2-py3-none-any.whl.metadata (5.4 kB)\n",
      "Requirement already satisfied: python-dateutil>=2.8.2 in c:\\users\\zaid.qarout\\appdata\\roaming\\python\\python312\\site-packages (from pandas->-r requirements.txt (line 1)) (2.9.0.post0)\n",
      "Requirement already satisfied: pytz>=2020.1 in c:\\users\\zaid.qarout\\appdata\\local\\miniconda3\\envs\\jupyter-env\\lib\\site-packages (from pandas->-r requirements.txt (line 1)) (2024.1)\n",
      "Requirement already satisfied: tzdata>=2022.7 in c:\\users\\zaid.qarout\\appdata\\local\\miniconda3\\envs\\jupyter-env\\lib\\site-packages (from pandas->-r requirements.txt (line 1)) (2023.3)\n",
      "Requirement already satisfied: contourpy>=1.0.1 in c:\\users\\zaid.qarout\\appdata\\local\\miniconda3\\envs\\jupyter-env\\lib\\site-packages (from matplotlib->-r requirements.txt (line 3)) (1.3.2)\n",
      "Requirement already satisfied: cycler>=0.10 in c:\\users\\zaid.qarout\\appdata\\local\\miniconda3\\envs\\jupyter-env\\lib\\site-packages (from matplotlib->-r requirements.txt (line 3)) (0.12.1)\n",
      "Requirement already satisfied: fonttools>=4.22.0 in c:\\users\\zaid.qarout\\appdata\\local\\miniconda3\\envs\\jupyter-env\\lib\\site-packages (from matplotlib->-r requirements.txt (line 3)) (4.58.0)\n",
      "Requirement already satisfied: kiwisolver>=1.3.1 in c:\\users\\zaid.qarout\\appdata\\local\\miniconda3\\envs\\jupyter-env\\lib\\site-packages (from matplotlib->-r requirements.txt (line 3)) (1.4.8)\n",
      "Requirement already satisfied: packaging>=20.0 in c:\\users\\zaid.qarout\\appdata\\roaming\\python\\python312\\site-packages (from matplotlib->-r requirements.txt (line 3)) (24.1)\n",
      "Requirement already satisfied: pillow>=8 in c:\\users\\zaid.qarout\\appdata\\local\\miniconda3\\envs\\jupyter-env\\lib\\site-packages (from matplotlib->-r requirements.txt (line 3)) (11.2.1)\n",
      "Requirement already satisfied: pyparsing>=2.3.1 in c:\\users\\zaid.qarout\\appdata\\local\\miniconda3\\envs\\jupyter-env\\lib\\site-packages (from matplotlib->-r requirements.txt (line 3)) (3.2.3)\n",
      "Requirement already satisfied: scipy>=1.8.0 in c:\\users\\zaid.qarout\\appdata\\local\\miniconda3\\envs\\jupyter-env\\lib\\site-packages (from scikit-learn->-r requirements.txt (line 4)) (1.13.1)\n",
      "Requirement already satisfied: joblib>=1.2.0 in c:\\users\\zaid.qarout\\appdata\\local\\miniconda3\\envs\\jupyter-env\\lib\\site-packages (from scikit-learn->-r requirements.txt (line 4)) (1.5.1)\n",
      "Requirement already satisfied: threadpoolctl>=3.1.0 in c:\\users\\zaid.qarout\\appdata\\local\\miniconda3\\envs\\jupyter-env\\lib\\site-packages (from scikit-learn->-r requirements.txt (line 4)) (3.6.0)\n",
      "Requirement already satisfied: smart-open>=1.8.1 in c:\\users\\zaid.qarout\\appdata\\local\\miniconda3\\envs\\jupyter-env\\lib\\site-packages (from gensim->-r requirements.txt (line 5)) (7.3.0.post1)\n",
      "Requirement already satisfied: colorama in c:\\users\\zaid.qarout\\appdata\\roaming\\python\\python312\\site-packages (from tqdm->-r requirements.txt (line 6)) (0.4.6)\n",
      "Requirement already satisfied: click in c:\\users\\zaid.qarout\\appdata\\local\\miniconda3\\envs\\jupyter-env\\lib\\site-packages (from nltk->-r requirements.txt (line 7)) (8.2.1)\n",
      "Requirement already satisfied: regex>=2021.8.3 in c:\\users\\zaid.qarout\\appdata\\local\\miniconda3\\envs\\jupyter-env\\lib\\site-packages (from nltk->-r requirements.txt (line 7)) (2024.11.6)\n",
      "Requirement already satisfied: spacy-legacy<3.1.0,>=3.0.11 in c:\\users\\zaid.qarout\\appdata\\local\\miniconda3\\envs\\jupyter-env\\lib\\site-packages (from spacy->-r requirements.txt (line 8)) (3.0.12)\n",
      "Requirement already satisfied: spacy-loggers<2.0.0,>=1.0.0 in c:\\users\\zaid.qarout\\appdata\\local\\miniconda3\\envs\\jupyter-env\\lib\\site-packages (from spacy->-r requirements.txt (line 8)) (1.0.5)\n",
      "Requirement already satisfied: murmurhash<1.1.0,>=0.28.0 in c:\\users\\zaid.qarout\\appdata\\local\\miniconda3\\envs\\jupyter-env\\lib\\site-packages (from spacy->-r requirements.txt (line 8)) (1.0.13)\n",
      "Requirement already satisfied: cymem<2.1.0,>=2.0.2 in c:\\users\\zaid.qarout\\appdata\\local\\miniconda3\\envs\\jupyter-env\\lib\\site-packages (from spacy->-r requirements.txt (line 8)) (2.0.11)\n",
      "Requirement already satisfied: preshed<3.1.0,>=3.0.2 in c:\\users\\zaid.qarout\\appdata\\local\\miniconda3\\envs\\jupyter-env\\lib\\site-packages (from spacy->-r requirements.txt (line 8)) (3.0.10)\n",
      "Requirement already satisfied: thinc<8.4.0,>=8.3.4 in c:\\users\\zaid.qarout\\appdata\\local\\miniconda3\\envs\\jupyter-env\\lib\\site-packages (from spacy->-r requirements.txt (line 8)) (8.3.4)\n",
      "Requirement already satisfied: wasabi<1.2.0,>=0.9.1 in c:\\users\\zaid.qarout\\appdata\\local\\miniconda3\\envs\\jupyter-env\\lib\\site-packages (from spacy->-r requirements.txt (line 8)) (1.1.3)\n",
      "Requirement already satisfied: srsly<3.0.0,>=2.4.3 in c:\\users\\zaid.qarout\\appdata\\local\\miniconda3\\envs\\jupyter-env\\lib\\site-packages (from spacy->-r requirements.txt (line 8)) (2.5.1)\n",
      "Requirement already satisfied: catalogue<2.1.0,>=2.0.6 in c:\\users\\zaid.qarout\\appdata\\local\\miniconda3\\envs\\jupyter-env\\lib\\site-packages (from spacy->-r requirements.txt (line 8)) (2.0.10)\n",
      "Requirement already satisfied: weasel<0.5.0,>=0.1.0 in c:\\users\\zaid.qarout\\appdata\\local\\miniconda3\\envs\\jupyter-env\\lib\\site-packages (from spacy->-r requirements.txt (line 8)) (0.4.1)\n",
      "Requirement already satisfied: typer<1.0.0,>=0.3.0 in c:\\users\\zaid.qarout\\appdata\\local\\miniconda3\\envs\\jupyter-env\\lib\\site-packages (from spacy->-r requirements.txt (line 8)) (0.16.0)\n",
      "Requirement already satisfied: requests<3.0.0,>=2.13.0 in c:\\users\\zaid.qarout\\appdata\\roaming\\python\\python312\\site-packages (from spacy->-r requirements.txt (line 8)) (2.32.3)\n",
      "Requirement already satisfied: pydantic!=1.8,!=1.8.1,<3.0.0,>=1.7.4 in c:\\users\\zaid.qarout\\appdata\\local\\miniconda3\\envs\\jupyter-env\\lib\\site-packages (from spacy->-r requirements.txt (line 8)) (2.11.7)\n",
      "Requirement already satisfied: jinja2 in c:\\users\\zaid.qarout\\appdata\\roaming\\python\\python312\\site-packages (from spacy->-r requirements.txt (line 8)) (3.1.4)\n",
      "Requirement already satisfied: setuptools in c:\\users\\zaid.qarout\\appdata\\local\\miniconda3\\envs\\jupyter-env\\lib\\site-packages (from spacy->-r requirements.txt (line 8)) (72.1.0)\n",
      "Requirement already satisfied: langcodes<4.0.0,>=3.2.0 in c:\\users\\zaid.qarout\\appdata\\local\\miniconda3\\envs\\jupyter-env\\lib\\site-packages (from spacy->-r requirements.txt (line 8)) (3.5.0)\n",
      "Requirement already satisfied: language-data>=1.2 in c:\\users\\zaid.qarout\\appdata\\local\\miniconda3\\envs\\jupyter-env\\lib\\site-packages (from langcodes<4.0.0,>=3.2.0->spacy->-r requirements.txt (line 8)) (1.3.0)\n",
      "Requirement already satisfied: annotated-types>=0.6.0 in c:\\users\\zaid.qarout\\appdata\\local\\miniconda3\\envs\\jupyter-env\\lib\\site-packages (from pydantic!=1.8,!=1.8.1,<3.0.0,>=1.7.4->spacy->-r requirements.txt (line 8)) (0.7.0)\n",
      "Requirement already satisfied: pydantic-core==2.33.2 in c:\\users\\zaid.qarout\\appdata\\local\\miniconda3\\envs\\jupyter-env\\lib\\site-packages (from pydantic!=1.8,!=1.8.1,<3.0.0,>=1.7.4->spacy->-r requirements.txt (line 8)) (2.33.2)\n",
      "Requirement already satisfied: typing-extensions>=4.12.2 in c:\\users\\zaid.qarout\\appdata\\local\\miniconda3\\envs\\jupyter-env\\lib\\site-packages (from pydantic!=1.8,!=1.8.1,<3.0.0,>=1.7.4->spacy->-r requirements.txt (line 8)) (4.14.1)\n",
      "Requirement already satisfied: typing-inspection>=0.4.0 in c:\\users\\zaid.qarout\\appdata\\local\\miniconda3\\envs\\jupyter-env\\lib\\site-packages (from pydantic!=1.8,!=1.8.1,<3.0.0,>=1.7.4->spacy->-r requirements.txt (line 8)) (0.4.1)\n",
      "Requirement already satisfied: six>=1.5 in c:\\users\\zaid.qarout\\appdata\\local\\miniconda3\\envs\\jupyter-env\\lib\\site-packages (from python-dateutil>=2.8.2->pandas->-r requirements.txt (line 1)) (1.16.0)\n",
      "Requirement already satisfied: charset-normalizer<4,>=2 in c:\\users\\zaid.qarout\\appdata\\roaming\\python\\python312\\site-packages (from requests<3.0.0,>=2.13.0->spacy->-r requirements.txt (line 8)) (3.3.2)\n",
      "Requirement already satisfied: idna<4,>=2.5 in c:\\users\\zaid.qarout\\appdata\\roaming\\python\\python312\\site-packages (from requests<3.0.0,>=2.13.0->spacy->-r requirements.txt (line 8)) (3.8)\n",
      "Requirement already satisfied: urllib3<3,>=1.21.1 in c:\\users\\zaid.qarout\\appdata\\local\\miniconda3\\envs\\jupyter-env\\lib\\site-packages (from requests<3.0.0,>=2.13.0->spacy->-r requirements.txt (line 8)) (2.2.2)\n",
      "Requirement already satisfied: certifi>=2017.4.17 in c:\\users\\zaid.qarout\\appdata\\roaming\\python\\python312\\site-packages (from requests<3.0.0,>=2.13.0->spacy->-r requirements.txt (line 8)) (2024.8.30)\n",
      "Requirement already satisfied: wrapt in c:\\users\\zaid.qarout\\appdata\\local\\miniconda3\\envs\\jupyter-env\\lib\\site-packages (from smart-open>=1.8.1->gensim->-r requirements.txt (line 5)) (1.17.2)\n",
      "Requirement already satisfied: blis<1.3.0,>=1.2.0 in c:\\users\\zaid.qarout\\appdata\\local\\miniconda3\\envs\\jupyter-env\\lib\\site-packages (from thinc<8.4.0,>=8.3.4->spacy->-r requirements.txt (line 8)) (1.2.1)\n",
      "Requirement already satisfied: confection<1.0.0,>=0.0.1 in c:\\users\\zaid.qarout\\appdata\\local\\miniconda3\\envs\\jupyter-env\\lib\\site-packages (from thinc<8.4.0,>=8.3.4->spacy->-r requirements.txt (line 8)) (0.1.5)\n",
      "Requirement already satisfied: shellingham>=1.3.0 in c:\\users\\zaid.qarout\\appdata\\local\\miniconda3\\envs\\jupyter-env\\lib\\site-packages (from typer<1.0.0,>=0.3.0->spacy->-r requirements.txt (line 8)) (1.5.4)\n",
      "Requirement already satisfied: rich>=10.11.0 in c:\\users\\zaid.qarout\\appdata\\local\\miniconda3\\envs\\jupyter-env\\lib\\site-packages (from typer<1.0.0,>=0.3.0->spacy->-r requirements.txt (line 8)) (14.0.0)\n",
      "Requirement already satisfied: cloudpathlib<1.0.0,>=0.7.0 in c:\\users\\zaid.qarout\\appdata\\local\\miniconda3\\envs\\jupyter-env\\lib\\site-packages (from weasel<0.5.0,>=0.1.0->spacy->-r requirements.txt (line 8)) (0.21.1)\n",
      "Requirement already satisfied: MarkupSafe>=2.0 in c:\\users\\zaid.qarout\\appdata\\roaming\\python\\python312\\site-packages (from jinja2->spacy->-r requirements.txt (line 8)) (2.1.5)\n",
      "Requirement already satisfied: marisa-trie>=1.1.0 in c:\\users\\zaid.qarout\\appdata\\local\\miniconda3\\envs\\jupyter-env\\lib\\site-packages (from language-data>=1.2->langcodes<4.0.0,>=3.2.0->spacy->-r requirements.txt (line 8)) (1.2.1)\n",
      "Requirement already satisfied: markdown-it-py>=2.2.0 in c:\\users\\zaid.qarout\\appdata\\local\\miniconda3\\envs\\jupyter-env\\lib\\site-packages (from rich>=10.11.0->typer<1.0.0,>=0.3.0->spacy->-r requirements.txt (line 8)) (3.0.0)\n",
      "Requirement already satisfied: pygments<3.0.0,>=2.13.0 in c:\\users\\zaid.qarout\\appdata\\local\\miniconda3\\envs\\jupyter-env\\lib\\site-packages (from rich>=10.11.0->typer<1.0.0,>=0.3.0->spacy->-r requirements.txt (line 8)) (2.15.1)\n",
      "Requirement already satisfied: mdurl~=0.1 in c:\\users\\zaid.qarout\\appdata\\local\\miniconda3\\envs\\jupyter-env\\lib\\site-packages (from markdown-it-py>=2.2.0->rich>=10.11.0->typer<1.0.0,>=0.3.0->spacy->-r requirements.txt (line 8)) (0.1.2)\n",
      "Downloading seaborn-0.13.2-py3-none-any.whl (294 kB)\n",
      "Installing collected packages: seaborn\n",
      "Successfully installed seaborn-0.13.2\n",
      "Note: you may need to restart the kernel to use updated packages.\n"
     ]
    }
   ],
   "source": [
    "pip install -r requirements.txt"
   ]
  },
  {
   "cell_type": "code",
   "execution_count": 82,
   "id": "73cb2ab9",
   "metadata": {},
   "outputs": [
    {
     "name": "stdout",
     "output_type": "stream",
     "text": [
      "Collecting en-core-web-sm==3.8.0\n",
      "  Downloading https://github.com/explosion/spacy-models/releases/download/en_core_web_sm-3.8.0/en_core_web_sm-3.8.0-py3-none-any.whl (12.8 MB)\n",
      "     ---------------------------------------- 0.0/12.8 MB ? eta -:--:--\n",
      "     ------- -------------------------------- 2.4/12.8 MB 13.4 MB/s eta 0:00:01\n",
      "     ---------------- ----------------------- 5.2/12.8 MB 13.3 MB/s eta 0:00:01\n",
      "     ------------------------ --------------- 7.9/12.8 MB 13.5 MB/s eta 0:00:01\n",
      "     -------------------------------- ------ 10.7/12.8 MB 13.4 MB/s eta 0:00:01\n",
      "     --------------------------------------  12.6/12.8 MB 13.6 MB/s eta 0:00:01\n",
      "     --------------------------------------- 12.8/12.8 MB 11.3 MB/s eta 0:00:00\n",
      "\u001b[38;5;2m[+] Download and installation successful\u001b[0m\n",
      "You can now load the package via spacy.load('en_core_web_sm')\n",
      "Finished.\n"
     ]
    },
    {
     "name": "stderr",
     "output_type": "stream",
     "text": [
      "[nltk_data] Downloading package brown to\n",
      "[nltk_data]     C:\\Users\\Zaid.Qarout\\AppData\\Roaming\\nltk_data...\n",
      "[nltk_data]   Package brown is already up-to-date!\n",
      "[nltk_data] Downloading package punkt_tab to\n",
      "[nltk_data]     C:\\Users\\Zaid.Qarout\\AppData\\Roaming\\nltk_data...\n",
      "[nltk_data]   Package punkt_tab is already up-to-date!\n",
      "[nltk_data] Downloading package wordnet to\n",
      "[nltk_data]     C:\\Users\\Zaid.Qarout\\AppData\\Roaming\\nltk_data...\n",
      "[nltk_data]   Package wordnet is already up-to-date!\n",
      "[nltk_data] Downloading package averaged_perceptron_tagger_eng to\n",
      "[nltk_data]     C:\\Users\\Zaid.Qarout\\AppData\\Roaming\\nltk_data...\n",
      "[nltk_data]   Package averaged_perceptron_tagger_eng is already up-to-\n",
      "[nltk_data]       date!\n",
      "[nltk_data] Downloading package conll2000 to\n",
      "[nltk_data]     C:\\Users\\Zaid.Qarout\\AppData\\Roaming\\nltk_data...\n",
      "[nltk_data]   Package conll2000 is already up-to-date!\n",
      "[nltk_data] Downloading package movie_reviews to\n",
      "[nltk_data]     C:\\Users\\Zaid.Qarout\\AppData\\Roaming\\nltk_data...\n",
      "[nltk_data]   Package movie_reviews is already up-to-date!\n"
     ]
    }
   ],
   "source": [
    "!python -m spacy download en_core_web_sm\n",
    "!python -m textblob.download_corpora"
   ]
  },
  {
   "cell_type": "code",
   "execution_count": 83,
   "id": "b519866c",
   "metadata": {},
   "outputs": [
    {
     "name": "stdout",
     "output_type": "stream",
     "text": [
      "C:\\Users\\Zaid.Qarout\\Toxic Comment Classification Challenge\n"
     ]
    },
    {
     "name": "stderr",
     "output_type": "stream",
     "text": [
      "C:\\Users\\Zaid.Qarout\\AppData\\Roaming\\Python\\Python312\\site-packages\\IPython\\core\\magics\\osm.py:417: UserWarning: This is now an optional IPython functionality, setting dhist requires you to install the `pickleshare` library.\n",
      "  self.shell.db['dhist'] = compress_dhist(dhist)[-100:]\n"
     ]
    }
   ],
   "source": [
    "cd C:\\Users\\Zaid.Qarout\\Toxic Comment Classification Challenge\""
   ]
  },
  {
   "cell_type": "markdown",
   "id": "26038ec1-2b2a-4721-9fe7-ee3b365e1d45",
   "metadata": {},
   "source": [
    "## Importing Libraries"
   ]
  },
  {
   "cell_type": "code",
   "execution_count": 121,
   "id": "6b9702af-ae70-4d31-9c93-e2fa27e7a6b5",
   "metadata": {},
   "outputs": [],
   "source": [
    "import numpy as np\n",
    "import pandas as pd\n",
    "import re\n",
    "import string\n",
    "import spacy\n",
    "import matplotlib.pyplot as plt\n",
    "import seaborn as sns\n",
    "# import nltk\n",
    "\n",
    "# nltk.download('stopwords')\n",
    "\n",
    "from collections import Counter\n",
    "from spacy import displacy\n",
    "from textblob import TextBlob\n",
    "from sklearn.model_selection import train_test_split\n",
    "from sklearn.linear_model import LogisticRegression\n",
    "from sklearn.multiclass import OneVsRestClassifier\n",
    "from sklearn.metrics import classification_report\n",
    "from sklearn.feature_extraction.text import TfidfVectorizer\n",
    "from sklearn.metrics import f1_score\n",
    "\n",
    "# from nltk.corpus import stopwords"
   ]
  },
  {
   "cell_type": "markdown",
   "id": "9594d7ed",
   "metadata": {},
   "source": [
    "## Variables"
   ]
  },
  {
   "cell_type": "code",
   "execution_count": 85,
   "id": "735d7c46",
   "metadata": {},
   "outputs": [],
   "source": [
    "nlp = spacy.load('en_core_web_sm')  # Load the English tokenizer, tagger, parser, NER, and POS tagger"
   ]
  },
  {
   "cell_type": "markdown",
   "id": "f793dde5-44e5-408e-bde6-79f0808b537c",
   "metadata": {},
   "source": [
    "## Load Data"
   ]
  },
  {
   "cell_type": "code",
   "execution_count": 86,
   "id": "0cf801b7-ca21-4e3d-a843-1fa16153ac33",
   "metadata": {},
   "outputs": [],
   "source": [
    "train_data_path = 'data/train.csv'\n",
    "test_data_path = 'data/test.csv'\n",
    "\n",
    "df_train = pd.read_csv(train_data_path)\n",
    "df_test = pd.read_csv(test_data_path)"
   ]
  },
  {
   "cell_type": "markdown",
   "id": "87b59354-5f03-4bff-9712-77dc6a12c35c",
   "metadata": {},
   "source": [
    "#### Observe the first 5 rows of each data set"
   ]
  },
  {
   "cell_type": "code",
   "execution_count": 87,
   "id": "fd53b169-5d0c-49ea-87cd-7b24ba077a88",
   "metadata": {},
   "outputs": [
    {
     "data": {
      "text/html": [
       "<div>\n",
       "<style scoped>\n",
       "    .dataframe tbody tr th:only-of-type {\n",
       "        vertical-align: middle;\n",
       "    }\n",
       "\n",
       "    .dataframe tbody tr th {\n",
       "        vertical-align: top;\n",
       "    }\n",
       "\n",
       "    .dataframe thead th {\n",
       "        text-align: right;\n",
       "    }\n",
       "</style>\n",
       "<table border=\"1\" class=\"dataframe\">\n",
       "  <thead>\n",
       "    <tr style=\"text-align: right;\">\n",
       "      <th></th>\n",
       "      <th>id</th>\n",
       "      <th>comment_text</th>\n",
       "      <th>toxic</th>\n",
       "      <th>severe_toxic</th>\n",
       "      <th>obscene</th>\n",
       "      <th>threat</th>\n",
       "      <th>insult</th>\n",
       "      <th>identity_hate</th>\n",
       "    </tr>\n",
       "  </thead>\n",
       "  <tbody>\n",
       "    <tr>\n",
       "      <th>0</th>\n",
       "      <td>0000997932d777bf</td>\n",
       "      <td>Explanation\\nWhy the edits made under my usern...</td>\n",
       "      <td>0</td>\n",
       "      <td>0</td>\n",
       "      <td>0</td>\n",
       "      <td>0</td>\n",
       "      <td>0</td>\n",
       "      <td>0</td>\n",
       "    </tr>\n",
       "    <tr>\n",
       "      <th>1</th>\n",
       "      <td>000103f0d9cfb60f</td>\n",
       "      <td>D'aww! He matches this background colour I'm s...</td>\n",
       "      <td>0</td>\n",
       "      <td>0</td>\n",
       "      <td>0</td>\n",
       "      <td>0</td>\n",
       "      <td>0</td>\n",
       "      <td>0</td>\n",
       "    </tr>\n",
       "    <tr>\n",
       "      <th>2</th>\n",
       "      <td>000113f07ec002fd</td>\n",
       "      <td>Hey man, I'm really not trying to edit war. It...</td>\n",
       "      <td>0</td>\n",
       "      <td>0</td>\n",
       "      <td>0</td>\n",
       "      <td>0</td>\n",
       "      <td>0</td>\n",
       "      <td>0</td>\n",
       "    </tr>\n",
       "    <tr>\n",
       "      <th>3</th>\n",
       "      <td>0001b41b1c6bb37e</td>\n",
       "      <td>\"\\nMore\\nI can't make any real suggestions on ...</td>\n",
       "      <td>0</td>\n",
       "      <td>0</td>\n",
       "      <td>0</td>\n",
       "      <td>0</td>\n",
       "      <td>0</td>\n",
       "      <td>0</td>\n",
       "    </tr>\n",
       "    <tr>\n",
       "      <th>4</th>\n",
       "      <td>0001d958c54c6e35</td>\n",
       "      <td>You, sir, are my hero. Any chance you remember...</td>\n",
       "      <td>0</td>\n",
       "      <td>0</td>\n",
       "      <td>0</td>\n",
       "      <td>0</td>\n",
       "      <td>0</td>\n",
       "      <td>0</td>\n",
       "    </tr>\n",
       "  </tbody>\n",
       "</table>\n",
       "</div>"
      ],
      "text/plain": [
       "                 id                                       comment_text  toxic  \\\n",
       "0  0000997932d777bf  Explanation\\nWhy the edits made under my usern...      0   \n",
       "1  000103f0d9cfb60f  D'aww! He matches this background colour I'm s...      0   \n",
       "2  000113f07ec002fd  Hey man, I'm really not trying to edit war. It...      0   \n",
       "3  0001b41b1c6bb37e  \"\\nMore\\nI can't make any real suggestions on ...      0   \n",
       "4  0001d958c54c6e35  You, sir, are my hero. Any chance you remember...      0   \n",
       "\n",
       "   severe_toxic  obscene  threat  insult  identity_hate  \n",
       "0             0        0       0       0              0  \n",
       "1             0        0       0       0              0  \n",
       "2             0        0       0       0              0  \n",
       "3             0        0       0       0              0  \n",
       "4             0        0       0       0              0  "
      ]
     },
     "execution_count": 87,
     "metadata": {},
     "output_type": "execute_result"
    }
   ],
   "source": [
    "df_train.head()"
   ]
  },
  {
   "cell_type": "code",
   "execution_count": 88,
   "id": "22cc5d98-1162-4818-8387-aed02b4e39e8",
   "metadata": {},
   "outputs": [
    {
     "data": {
      "text/html": [
       "<div>\n",
       "<style scoped>\n",
       "    .dataframe tbody tr th:only-of-type {\n",
       "        vertical-align: middle;\n",
       "    }\n",
       "\n",
       "    .dataframe tbody tr th {\n",
       "        vertical-align: top;\n",
       "    }\n",
       "\n",
       "    .dataframe thead th {\n",
       "        text-align: right;\n",
       "    }\n",
       "</style>\n",
       "<table border=\"1\" class=\"dataframe\">\n",
       "  <thead>\n",
       "    <tr style=\"text-align: right;\">\n",
       "      <th></th>\n",
       "      <th>id</th>\n",
       "      <th>comment_text</th>\n",
       "    </tr>\n",
       "  </thead>\n",
       "  <tbody>\n",
       "    <tr>\n",
       "      <th>0</th>\n",
       "      <td>00001cee341fdb12</td>\n",
       "      <td>Yo bitch Ja Rule is more succesful then you'll...</td>\n",
       "    </tr>\n",
       "    <tr>\n",
       "      <th>1</th>\n",
       "      <td>0000247867823ef7</td>\n",
       "      <td>== From RfC == \\n\\n The title is fine as it is...</td>\n",
       "    </tr>\n",
       "    <tr>\n",
       "      <th>2</th>\n",
       "      <td>00013b17ad220c46</td>\n",
       "      <td>\" \\n\\n == Sources == \\n\\n * Zawe Ashton on Lap...</td>\n",
       "    </tr>\n",
       "    <tr>\n",
       "      <th>3</th>\n",
       "      <td>00017563c3f7919a</td>\n",
       "      <td>:If you have a look back at the source, the in...</td>\n",
       "    </tr>\n",
       "    <tr>\n",
       "      <th>4</th>\n",
       "      <td>00017695ad8997eb</td>\n",
       "      <td>I don't anonymously edit articles at all.</td>\n",
       "    </tr>\n",
       "  </tbody>\n",
       "</table>\n",
       "</div>"
      ],
      "text/plain": [
       "                 id                                       comment_text\n",
       "0  00001cee341fdb12  Yo bitch Ja Rule is more succesful then you'll...\n",
       "1  0000247867823ef7  == From RfC == \\n\\n The title is fine as it is...\n",
       "2  00013b17ad220c46  \" \\n\\n == Sources == \\n\\n * Zawe Ashton on Lap...\n",
       "3  00017563c3f7919a  :If you have a look back at the source, the in...\n",
       "4  00017695ad8997eb          I don't anonymously edit articles at all."
      ]
     },
     "execution_count": 88,
     "metadata": {},
     "output_type": "execute_result"
    }
   ],
   "source": [
    "df_test.head()"
   ]
  },
  {
   "cell_type": "markdown",
   "id": "e7b7fd70-b256-4028-8e14-e2f4ef81d641",
   "metadata": {},
   "source": [
    "#### Check the shape of the datasets"
   ]
  },
  {
   "cell_type": "code",
   "execution_count": 89,
   "id": "3cdd6173-c45a-4389-86dc-959e9b7ae4ed",
   "metadata": {},
   "outputs": [
    {
     "name": "stdout",
     "output_type": "stream",
     "text": [
      "Train shape (159571, 8)\n",
      "Test shape (153164, 2)\n"
     ]
    }
   ],
   "source": [
    "print('Train shape', df_train.shape)\n",
    "print('Test shape', df_test.shape)"
   ]
  },
  {
   "cell_type": "markdown",
   "id": "efc306f8",
   "metadata": {},
   "source": [
    "#### Check the column names"
   ]
  },
  {
   "cell_type": "code",
   "execution_count": 90,
   "id": "c3a2f358",
   "metadata": {},
   "outputs": [
    {
     "data": {
      "text/plain": [
       "Index(['id', 'comment_text', 'toxic', 'severe_toxic', 'obscene', 'threat',\n",
       "       'insult', 'identity_hate'],\n",
       "      dtype='object')"
      ]
     },
     "execution_count": 90,
     "metadata": {},
     "output_type": "execute_result"
    }
   ],
   "source": [
    "df_train.columns"
   ]
  },
  {
   "cell_type": "markdown",
   "id": "c7519d29",
   "metadata": {},
   "source": [
    "#### Check for missing data"
   ]
  },
  {
   "cell_type": "code",
   "execution_count": 91,
   "id": "f36bcb4b",
   "metadata": {},
   "outputs": [
    {
     "data": {
      "text/plain": [
       "id               0\n",
       "comment_text     0\n",
       "toxic            0\n",
       "severe_toxic     0\n",
       "obscene          0\n",
       "threat           0\n",
       "insult           0\n",
       "identity_hate    0\n",
       "dtype: int64"
      ]
     },
     "execution_count": 91,
     "metadata": {},
     "output_type": "execute_result"
    }
   ],
   "source": [
    "df_train.isnull().sum()"
   ]
  },
  {
   "cell_type": "markdown",
   "id": "1ed4fe8a",
   "metadata": {},
   "source": [
    "#### View label distribution\n",
    "Sort values to see the most common labels first"
   ]
  },
  {
   "cell_type": "code",
   "execution_count": 92,
   "id": "aedb9f8a",
   "metadata": {},
   "outputs": [
    {
     "data": {
      "text/plain": [
       "toxic            15294\n",
       "obscene           8449\n",
       "insult            7877\n",
       "severe_toxic      1595\n",
       "identity_hate     1405\n",
       "threat             478\n",
       "dtype: int64"
      ]
     },
     "execution_count": 92,
     "metadata": {},
     "output_type": "execute_result"
    }
   ],
   "source": [
    "labels = ['toxic', 'severe_toxic', 'obscene', 'threat', 'insult', 'identity_hate']\n",
    "df_train[labels].sum().sort_values(ascending=False)"
   ]
  },
  {
   "cell_type": "markdown",
   "id": "2491e7b3",
   "metadata": {},
   "source": [
    "## Data Sanitation"
   ]
  },
  {
   "cell_type": "markdown",
   "id": "d579732c",
   "metadata": {},
   "source": [
    "### Clean the data"
   ]
  },
  {
   "cell_type": "code",
   "execution_count": 93,
   "id": "6e1fcedd",
   "metadata": {},
   "outputs": [],
   "source": [
    "# def clean(text):\n",
    "#     \"\"\"\n",
    "#     Function to clean the text data.\n",
    "#     Args:\n",
    "#         text (str): The text to be cleaned.\n",
    "#         Returns: the cleaned text.\"\"\"\n",
    "#     text = text.lower()  # Convert to lowercase\n",
    "#     text = text.strip()  # Remove leading and trailing whitespace\n",
    "#     text = re.sub(r'\\s+', ' ', text)  # Replace multiple spaces with a single space\n",
    "#     text = re.sub(r'\\d+', '', text)  # Remove digits\n",
    "#     text = text.translate(str.maketrans('', '', string.punctuation))  # Remove punctuation\n",
    "#     return text\n",
    "\n",
    "def clean(doc):\n",
    "    \"\"\"Function to clean the text data using spaCy.\n",
    "    Args:\n",
    "        doc (str): The text to be cleaned.\n",
    "    Returns: the cleaned text as a string.\"\"\"\n",
    "    tokens = [token.text.lower() for token in doc \n",
    "              if token.is_alpha and not token.is_stop]  # Keep only alphabetic tokens and remove stop words\n",
    "    return ' '.join(tokens)  # Join the tokens back into a single string"
   ]
  },
  {
   "cell_type": "markdown",
   "id": "f61135bc",
   "metadata": {},
   "source": [
    "### Tokenise the data"
   ]
  },
  {
   "cell_type": "code",
   "execution_count": 94,
   "id": "e50ee606",
   "metadata": {},
   "outputs": [],
   "source": [
    "# def tokenise(text):\n",
    "#     \"\"\"\n",
    "#     Function to tokenise the text data.\n",
    "#     Args:\n",
    "#         text (str): The text to be tokenised.\n",
    "#         Returns: a list of tokens.\"\"\"\n",
    "#     tokenised_text = re.findall(r\"[a-zA-Z]+\", text.lower()) # Extract words only including apostrophes\n",
    "#     return tokenised_text\n",
    "\n",
    "def tokenise(doc):\n",
    "    \"\"\"Function to tokenise the text data.\n",
    "    Args:  \n",
    "        doc (spacy.tokens.Doc): The processed text document.\n",
    "    Returns: a list of tokens.\"\"\"\n",
    "    # Tokenise the document using spaCy\n",
    "    tokens = [token.lemma_.lower()\n",
    "              for token in doc\n",
    "              if token.is_alpha and not token.is_stop] # Keep only alphabetic tokens, remove stop words, and lemmatise\n",
    "    return tokens  # Return the list of tokens"
   ]
  },
  {
   "cell_type": "markdown",
   "id": "134ee7eb",
   "metadata": {},
   "source": [
    "### Sentence count"
   ]
  },
  {
   "cell_type": "code",
   "execution_count": 95,
   "id": "66ab2374",
   "metadata": {},
   "outputs": [],
   "source": [
    "# def sentence_count(text):\n",
    "#     \"\"\"\n",
    "#     Function to count the number of sentences in the text data.\n",
    "#     Args:\n",
    "#         text (str): The text to be processed.\n",
    "#         Returns: the number of sentences.\"\"\"\n",
    "#     sentences = re.split(r'[.!?]+', text)  # Split by sentence-ending punctuation\n",
    "#     return len([s for s in sentences if s.strip()])  # Count non-empty sentences\n",
    "\n",
    "def sentence_count(doc):\n",
    "    \"\"\" Function to count the number of sentences in the text data.\n",
    "    Args:\n",
    "        doc (spacy.tokens.Doc): The processed text document.\n",
    "    Returns: the number of sentences.\"\"\"\n",
    "    return len(list(doc.sents))  # Count the number of sentences in the document"
   ]
  },
  {
   "cell_type": "markdown",
   "id": "d7be8441",
   "metadata": {},
   "source": [
    "### Part-of-speech tagging (POS)\n",
    "Show the grammatical role of each word (eg. noun, verb...)"
   ]
  },
  {
   "cell_type": "code",
   "execution_count": 96,
   "id": "a85e7392",
   "metadata": {},
   "outputs": [],
   "source": [
    "def print_pos_tags(doc):\n",
    "    \"\"\" Function to print the part-of-speech (POS) tags of the text data.\n",
    "    Args:\n",
    "        doc (spacy.tokens.Doc): The processed text document.\n",
    "    Returns: None, but prints the POS tags.\"\"\"\n",
    "    # Print each token and its POS tag\n",
    "    for token in doc:\n",
    "        print(f\"{token.text} - {token.pos_}\")  # Print each token and its POS tag"
   ]
  },
  {
   "cell_type": "markdown",
   "id": "0c4e9ab5",
   "metadata": {},
   "source": [
    "### Name entity recognition (NER)\n",
    "Finds named entities like countries, people, dates..."
   ]
  },
  {
   "cell_type": "code",
   "execution_count": 97,
   "id": "1e7bee46",
   "metadata": {},
   "outputs": [],
   "source": [
    "def print_ner(doc):\n",
    "    \"\"\" Function to print named entities in the text data.\n",
    "    Args:\n",
    "        doc (spacy.tokens.Doc): The processed text document.\n",
    "    Returns: None, but prints the named entities.\"\"\"\n",
    "    for ent in doc.ents:\n",
    "        print(f\"{ent.text} - {ent.label_}\")  # Print each entity and its label"
   ]
  },
  {
   "cell_type": "markdown",
   "id": "66e743fd",
   "metadata": {},
   "source": [
    "### Dependency parsing\n",
    "Shows how each word depends on another in the sentence"
   ]
  },
  {
   "cell_type": "code",
   "execution_count": 98,
   "id": "0f07163a",
   "metadata": {},
   "outputs": [],
   "source": [
    "def print_dependency_parse(doc):\n",
    "    \"\"\" Function to print the dependency parse of the text data.\n",
    "    Args:\n",
    "        doc (spacy.tokens.Doc): The processed text document.\n",
    "    Returns: None, but prints the dependency parse.\"\"\"\n",
    "    for token in doc:\n",
    "        print(f\"{token.text} - {token.dep_} - {token.head.text}\")  # Print each token, its dependency relation, and its head"
   ]
  },
  {
   "cell_type": "markdown",
   "id": "b3d49fba",
   "metadata": {},
   "source": [
    "### Add sentiment scores\n"
   ]
  },
  {
   "cell_type": "code",
   "execution_count": 99,
   "id": "0d0c805c",
   "metadata": {},
   "outputs": [],
   "source": [
    "def get_sentiment_scores(text):\n",
    "    \"\"\"\n",
    "    Function to get the sentiment scores of the text data.\n",
    "    Args:\n",
    "        text (str): The text to be processed.\n",
    "    Returns: a dictionary with polarity and subjectivity scores.\"\"\"\n",
    "    blob = TextBlob(text)  # Create a TextBlob object\n",
    "    return {'polarity': blob.sentiment.polarity, 'subjectivity': blob.sentiment.subjectivity}  # Return the sentiment scores as a dictionary"
   ]
  },
  {
   "cell_type": "markdown",
   "id": "c7bd0091",
   "metadata": {},
   "source": [
    "### Extract features"
   ]
  },
  {
   "cell_type": "code",
   "execution_count": 100,
   "id": "9bf79bc9",
   "metadata": {},
   "outputs": [],
   "source": [
    "def extract_features(text):\n",
    "    \"\"\" Function to extract features from the text data.\n",
    "    Args:\n",
    "        text (str): The text to be processed.\n",
    "    Returns: a dictionary with various features extracted from the text.\"\"\"\n",
    "    \n",
    "    if not isinstance(text, str) or not text.strip():\n",
    "        # Return default values if input is not valid\n",
    "        return {\n",
    "            'cleaned_text': '',\n",
    "            'tokens': [],\n",
    "            'sentence_count': 0,\n",
    "            'pos_tags': [],\n",
    "            'ner': [],\n",
    "            'dependency_parse': [],\n",
    "            'sentiment_scores': {'polarity': 0.0, 'subjectivity': 0.0}\n",
    "        }\n",
    "\n",
    "    \n",
    "    doc = nlp(text)  # Process the text with spaCy\n",
    "    return {\n",
    "        'cleaned_text': clean(doc),  # Cleaned text\n",
    "        'tokens': tokenise(doc),  # Tokenised text\n",
    "        'sentence_count': sentence_count(doc),  # Number of sentences\n",
    "        'pos_tags': [(token.text, token.pos_) for token in doc],  # POS tags\n",
    "        'ner': [(ent.text, ent.label_) for ent in doc.ents],  # Named entities\n",
    "        'dependency_parse': [(token.text, token.dep_, token.head.text) for token in doc],  # Dependency parse\n",
    "        'sentiment_scores': get_sentiment_scores(text)  # Sentiment scores\n",
    "    }\n"
   ]
  },
  {
   "cell_type": "markdown",
   "id": "3b7ca02b",
   "metadata": {},
   "source": [
    "### Apply satinisation methods"
   ]
  },
  {
   "cell_type": "code",
   "execution_count": 101,
   "id": "0c34d872",
   "metadata": {},
   "outputs": [],
   "source": [
    "# # Clean and process the comment text\n",
    "# df_train['clean_text'] = df_train['comment_text'].apply(clean)\n",
    "# df_train['tokenised_text'] = df_train['clean_text'].apply(tokenise)\n",
    "# df_train['sentence_count'] = df_train['comment_text'].apply(sentence_count)\n"
   ]
  },
  {
   "cell_type": "code",
   "execution_count": null,
   "id": "9cbdab29",
   "metadata": {},
   "outputs": [],
   "source": [
    "# ============ DEVELOPMENT MODE =========== #\n",
    "# (a small sample to save time)\n",
    "\n",
    "df_small = df_train.sample(n=5000, random_state=42)\n",
    "features = df_small['comment_text'].apply(extract_features)\n",
    "features_df = pd.json_normalize(features, sep='_')\n",
    "\n",
    "df_small = df_small.reset_index(drop=True)\n",
    "features_df = features_df.reset_index(drop=True)\n",
    "\n",
    "df = pd.concat([df_small, features_df], axis=1)\n",
    "# ========================================= #\n",
    "\n",
    "# ============ FULL DATASET MODE (SUBMISSION) =========== #\n",
    "# Uncomment this just before training and submission\n",
    "\n",
    "# features = df_train['comment_text'].apply(extract_features)\n",
    "# features_df = pd.json_normalize(features, sep='_')\n",
    "\n",
    "# Align indices before combining\n",
    "\n",
    "# df_train = df_train.reset_index(drop=True)\n",
    "# features_df = features_df.reset_index(drop=True)\n",
    "\n",
    "# Final working DataFrame for exploration\n",
    "\n",
    "# df = pd.concat([df_train, features_df], axis=1)\n",
    "# ======================================================== #\n"
   ]
  },
  {
   "cell_type": "code",
   "execution_count": 109,
   "id": "088111c0",
   "metadata": {},
   "outputs": [
    {
     "data": {
      "text/html": [
       "<div>\n",
       "<style scoped>\n",
       "    .dataframe tbody tr th:only-of-type {\n",
       "        vertical-align: middle;\n",
       "    }\n",
       "\n",
       "    .dataframe tbody tr th {\n",
       "        vertical-align: top;\n",
       "    }\n",
       "\n",
       "    .dataframe thead th {\n",
       "        text-align: right;\n",
       "    }\n",
       "</style>\n",
       "<table border=\"1\" class=\"dataframe\">\n",
       "  <thead>\n",
       "    <tr style=\"text-align: right;\">\n",
       "      <th></th>\n",
       "      <th>id</th>\n",
       "      <th>comment_text</th>\n",
       "      <th>toxic</th>\n",
       "      <th>severe_toxic</th>\n",
       "      <th>obscene</th>\n",
       "      <th>threat</th>\n",
       "      <th>insult</th>\n",
       "      <th>identity_hate</th>\n",
       "      <th>cleaned_text</th>\n",
       "      <th>tokens</th>\n",
       "      <th>sentence_count</th>\n",
       "      <th>pos_tags</th>\n",
       "      <th>ner</th>\n",
       "      <th>dependency_parse</th>\n",
       "      <th>sentiment_scores_polarity</th>\n",
       "      <th>sentiment_scores_subjectivity</th>\n",
       "    </tr>\n",
       "  </thead>\n",
       "  <tbody>\n",
       "    <tr>\n",
       "      <th>0</th>\n",
       "      <td>7ca72b5b9c688e9e</td>\n",
       "      <td>Geez, are you forgetful!  We've already discus...</td>\n",
       "      <td>0</td>\n",
       "      <td>0</td>\n",
       "      <td>0</td>\n",
       "      <td>0</td>\n",
       "      <td>0</td>\n",
       "      <td>0</td>\n",
       "      <td>geez forgetful discussed marx anarchist wanted...</td>\n",
       "      <td>[geez, forgetful, discuss, marx, anarchist, wa...</td>\n",
       "      <td>5</td>\n",
       "      <td>[(Geez, PROPN), (,, PUNCT), (are, AUX), (you, ...</td>\n",
       "      <td>[(Geez, PERSON), (Marx, PERSON), (State, ORG),...</td>\n",
       "      <td>[(Geez, intj, are), (,, punct, are), (are, ROO...</td>\n",
       "      <td>-8.333333e-03</td>\n",
       "      <td>0.200000</td>\n",
       "    </tr>\n",
       "    <tr>\n",
       "      <th>1</th>\n",
       "      <td>c03f72fd8f8bf54f</td>\n",
       "      <td>Carioca RFA \\n\\nThanks for your support on my ...</td>\n",
       "      <td>0</td>\n",
       "      <td>0</td>\n",
       "      <td>0</td>\n",
       "      <td>0</td>\n",
       "      <td>0</td>\n",
       "      <td>0</td>\n",
       "      <td>carioca rfa thanks support request adminship f...</td>\n",
       "      <td>[carioca, rfa, thank, support, request, admins...</td>\n",
       "      <td>4</td>\n",
       "      <td>[(Carioca, ADJ), (RFA, NOUN), (\\n\\n, SPACE), (...</td>\n",
       "      <td>[(31/4/1, CARDINAL)]</td>\n",
       "      <td>[(Carioca, compound, RFA), (RFA, compound, Tha...</td>\n",
       "      <td>1.000000e-01</td>\n",
       "      <td>0.600000</td>\n",
       "    </tr>\n",
       "    <tr>\n",
       "      <th>2</th>\n",
       "      <td>9e5b8e8fc1ff2e84</td>\n",
       "      <td>\"\\n\\n Birthday \\n\\nNo worries, It's what I do ...</td>\n",
       "      <td>0</td>\n",
       "      <td>0</td>\n",
       "      <td>0</td>\n",
       "      <td>0</td>\n",
       "      <td>0</td>\n",
       "      <td>0</td>\n",
       "      <td>birthday worries enjoy ur</td>\n",
       "      <td>[birthday, worry, enjoy, ur]</td>\n",
       "      <td>1</td>\n",
       "      <td>[(\", PUNCT), (\\n\\n , SPACE), (Birthday, NOUN),...</td>\n",
       "      <td>[]</td>\n",
       "      <td>[(\", punct, 's), (\\n\\n , dep, \"), (Birthday, c...</td>\n",
       "      <td>3.250000e-01</td>\n",
       "      <td>0.750000</td>\n",
       "    </tr>\n",
       "    <tr>\n",
       "      <th>3</th>\n",
       "      <td>5332799e706665a6</td>\n",
       "      <td>Pseudoscience category? \\n\\nI'm assuming that ...</td>\n",
       "      <td>0</td>\n",
       "      <td>0</td>\n",
       "      <td>0</td>\n",
       "      <td>0</td>\n",
       "      <td>0</td>\n",
       "      <td>0</td>\n",
       "      <td>pseudoscience category assuming article pseudo...</td>\n",
       "      <td>[pseudoscience, category, assume, article, pse...</td>\n",
       "      <td>4</td>\n",
       "      <td>[(Pseudoscience, NOUN), (category, NOUN), (?, ...</td>\n",
       "      <td>[]</td>\n",
       "      <td>[(Pseudoscience, compound, category), (categor...</td>\n",
       "      <td>1.266667e-01</td>\n",
       "      <td>0.398333</td>\n",
       "    </tr>\n",
       "    <tr>\n",
       "      <th>4</th>\n",
       "      <td>dfa7d8f0b4366680</td>\n",
       "      <td>(and if such phrase exists, it would be provid...</td>\n",
       "      <td>0</td>\n",
       "      <td>0</td>\n",
       "      <td>0</td>\n",
       "      <td>0</td>\n",
       "      <td>0</td>\n",
       "      <td>0</td>\n",
       "      <td>phrase exists provided search engine mentioned...</td>\n",
       "      <td>[phrase, exist, provide, search, engine, menti...</td>\n",
       "      <td>1</td>\n",
       "      <td>[((, PUNCT), (and, CCONJ), (if, SCONJ), (such,...</td>\n",
       "      <td>[]</td>\n",
       "      <td>[((, punct, provided), (and, cc, provided), (i...</td>\n",
       "      <td>0.000000e+00</td>\n",
       "      <td>0.433333</td>\n",
       "    </tr>\n",
       "    <tr>\n",
       "      <th>...</th>\n",
       "      <td>...</td>\n",
       "      <td>...</td>\n",
       "      <td>...</td>\n",
       "      <td>...</td>\n",
       "      <td>...</td>\n",
       "      <td>...</td>\n",
       "      <td>...</td>\n",
       "      <td>...</td>\n",
       "      <td>...</td>\n",
       "      <td>...</td>\n",
       "      <td>...</td>\n",
       "      <td>...</td>\n",
       "      <td>...</td>\n",
       "      <td>...</td>\n",
       "      <td>...</td>\n",
       "      <td>...</td>\n",
       "    </tr>\n",
       "    <tr>\n",
       "      <th>4995</th>\n",
       "      <td>ba6f9b741648e4e4</td>\n",
       "      <td>\"\\n\\nIn response to Bduke's question 2 above, ...</td>\n",
       "      <td>0</td>\n",
       "      <td>0</td>\n",
       "      <td>0</td>\n",
       "      <td>0</td>\n",
       "      <td>0</td>\n",
       "      <td>0</td>\n",
       "      <td>response bduke question think difficult wikipe...</td>\n",
       "      <td>[response, bduke, question, think, difficult, ...</td>\n",
       "      <td>7</td>\n",
       "      <td>[(\", PUNCT), (\\n\\n, SPACE), (In, ADP), (respon...</td>\n",
       "      <td>[(Bduke, GPE), (2, CARDINAL), (Guiding, ORG), ...</td>\n",
       "      <td>[(\", punct, think), (\\n\\n, dep, \"), (In, prep,...</td>\n",
       "      <td>-3.965082e-18</td>\n",
       "      <td>0.571429</td>\n",
       "    </tr>\n",
       "    <tr>\n",
       "      <th>4996</th>\n",
       "      <td>5c827588ebf39fe6</td>\n",
       "      <td>\"\\nSupport as above Slash \"</td>\n",
       "      <td>0</td>\n",
       "      <td>0</td>\n",
       "      <td>0</td>\n",
       "      <td>0</td>\n",
       "      <td>0</td>\n",
       "      <td>0</td>\n",
       "      <td>support slash</td>\n",
       "      <td>[support, slash]</td>\n",
       "      <td>1</td>\n",
       "      <td>[(\", PUNCT), (\\n, SPACE), (Support, PROPN), (a...</td>\n",
       "      <td>[(Slash, GPE)]</td>\n",
       "      <td>[(\", punct, Support), (\\n, dep, \"), (Support, ...</td>\n",
       "      <td>0.000000e+00</td>\n",
       "      <td>0.100000</td>\n",
       "    </tr>\n",
       "    <tr>\n",
       "      <th>4997</th>\n",
       "      <td>e52f35b373fa6bbb</td>\n",
       "      <td>REDIRECT Talk:Magar class amphibious warfare v...</td>\n",
       "      <td>0</td>\n",
       "      <td>0</td>\n",
       "      <td>0</td>\n",
       "      <td>0</td>\n",
       "      <td>0</td>\n",
       "      <td>0</td>\n",
       "      <td>redirect talk magar class amphibious warfare v...</td>\n",
       "      <td>[redirect, talk, magar, class, amphibious, war...</td>\n",
       "      <td>1</td>\n",
       "      <td>[(REDIRECT, PROPN), (Talk, NOUN), (:, PUNCT), ...</td>\n",
       "      <td>[]</td>\n",
       "      <td>[(REDIRECT, compound, Talk), (Talk, ROOT, Talk...</td>\n",
       "      <td>0.000000e+00</td>\n",
       "      <td>0.000000</td>\n",
       "    </tr>\n",
       "    <tr>\n",
       "      <th>4998</th>\n",
       "      <td>7b681dbd3aa67ef6</td>\n",
       "      <td>\"\\n\\nSanger &amp; Sangists\\nI've added the \"\"\"\" te...</td>\n",
       "      <td>0</td>\n",
       "      <td>0</td>\n",
       "      <td>0</td>\n",
       "      <td>0</td>\n",
       "      <td>0</td>\n",
       "      <td>0</td>\n",
       "      <td>sanger sangists added template article sanger ...</td>\n",
       "      <td>[sanger, sangists, add, template, article, san...</td>\n",
       "      <td>4</td>\n",
       "      <td>[(\", PUNCT), (\\n\\n, SPACE), (Sanger, PROPN), (...</td>\n",
       "      <td>[(Sanger &amp; Sangists, ORG), (Wikipedia, ORG), (...</td>\n",
       "      <td>[(\", punct, added), (\\n\\n, dep, \"), (Sanger, n...</td>\n",
       "      <td>2.666667e-01</td>\n",
       "      <td>0.550000</td>\n",
       "    </tr>\n",
       "    <tr>\n",
       "      <th>4999</th>\n",
       "      <td>799315c85bf80509</td>\n",
       "      <td>Religious right will end up killing off all li...</td>\n",
       "      <td>1</td>\n",
       "      <td>0</td>\n",
       "      <td>0</td>\n",
       "      <td>0</td>\n",
       "      <td>0</td>\n",
       "      <td>0</td>\n",
       "      <td>religious right end killing life earth enjoy</td>\n",
       "      <td>[religious, right, end, kill, life, earth, enjoy]</td>\n",
       "      <td>1</td>\n",
       "      <td>[(Religious, ADJ), (right, NOUN), (will, AUX),...</td>\n",
       "      <td>[(Earth, LOC)]</td>\n",
       "      <td>[(Religious, amod, right), (right, nsubj, end)...</td>\n",
       "      <td>2.285714e-01</td>\n",
       "      <td>0.428571</td>\n",
       "    </tr>\n",
       "  </tbody>\n",
       "</table>\n",
       "<p>5000 rows × 16 columns</p>\n",
       "</div>"
      ],
      "text/plain": [
       "                    id                                       comment_text  \\\n",
       "0     7ca72b5b9c688e9e  Geez, are you forgetful!  We've already discus...   \n",
       "1     c03f72fd8f8bf54f  Carioca RFA \\n\\nThanks for your support on my ...   \n",
       "2     9e5b8e8fc1ff2e84  \"\\n\\n Birthday \\n\\nNo worries, It's what I do ...   \n",
       "3     5332799e706665a6  Pseudoscience category? \\n\\nI'm assuming that ...   \n",
       "4     dfa7d8f0b4366680  (and if such phrase exists, it would be provid...   \n",
       "...                ...                                                ...   \n",
       "4995  ba6f9b741648e4e4  \"\\n\\nIn response to Bduke's question 2 above, ...   \n",
       "4996  5c827588ebf39fe6                        \"\\nSupport as above Slash \"   \n",
       "4997  e52f35b373fa6bbb  REDIRECT Talk:Magar class amphibious warfare v...   \n",
       "4998  7b681dbd3aa67ef6  \"\\n\\nSanger & Sangists\\nI've added the \"\"\"\" te...   \n",
       "4999  799315c85bf80509  Religious right will end up killing off all li...   \n",
       "\n",
       "      toxic  severe_toxic  obscene  threat  insult  identity_hate  \\\n",
       "0         0             0        0       0       0              0   \n",
       "1         0             0        0       0       0              0   \n",
       "2         0             0        0       0       0              0   \n",
       "3         0             0        0       0       0              0   \n",
       "4         0             0        0       0       0              0   \n",
       "...     ...           ...      ...     ...     ...            ...   \n",
       "4995      0             0        0       0       0              0   \n",
       "4996      0             0        0       0       0              0   \n",
       "4997      0             0        0       0       0              0   \n",
       "4998      0             0        0       0       0              0   \n",
       "4999      1             0        0       0       0              0   \n",
       "\n",
       "                                           cleaned_text  \\\n",
       "0     geez forgetful discussed marx anarchist wanted...   \n",
       "1     carioca rfa thanks support request adminship f...   \n",
       "2                             birthday worries enjoy ur   \n",
       "3     pseudoscience category assuming article pseudo...   \n",
       "4     phrase exists provided search engine mentioned...   \n",
       "...                                                 ...   \n",
       "4995  response bduke question think difficult wikipe...   \n",
       "4996                                      support slash   \n",
       "4997  redirect talk magar class amphibious warfare v...   \n",
       "4998  sanger sangists added template article sanger ...   \n",
       "4999       religious right end killing life earth enjoy   \n",
       "\n",
       "                                                 tokens  sentence_count  \\\n",
       "0     [geez, forgetful, discuss, marx, anarchist, wa...               5   \n",
       "1     [carioca, rfa, thank, support, request, admins...               4   \n",
       "2                          [birthday, worry, enjoy, ur]               1   \n",
       "3     [pseudoscience, category, assume, article, pse...               4   \n",
       "4     [phrase, exist, provide, search, engine, menti...               1   \n",
       "...                                                 ...             ...   \n",
       "4995  [response, bduke, question, think, difficult, ...               7   \n",
       "4996                                   [support, slash]               1   \n",
       "4997  [redirect, talk, magar, class, amphibious, war...               1   \n",
       "4998  [sanger, sangists, add, template, article, san...               4   \n",
       "4999  [religious, right, end, kill, life, earth, enjoy]               1   \n",
       "\n",
       "                                               pos_tags  \\\n",
       "0     [(Geez, PROPN), (,, PUNCT), (are, AUX), (you, ...   \n",
       "1     [(Carioca, ADJ), (RFA, NOUN), (\\n\\n, SPACE), (...   \n",
       "2     [(\", PUNCT), (\\n\\n , SPACE), (Birthday, NOUN),...   \n",
       "3     [(Pseudoscience, NOUN), (category, NOUN), (?, ...   \n",
       "4     [((, PUNCT), (and, CCONJ), (if, SCONJ), (such,...   \n",
       "...                                                 ...   \n",
       "4995  [(\", PUNCT), (\\n\\n, SPACE), (In, ADP), (respon...   \n",
       "4996  [(\", PUNCT), (\\n, SPACE), (Support, PROPN), (a...   \n",
       "4997  [(REDIRECT, PROPN), (Talk, NOUN), (:, PUNCT), ...   \n",
       "4998  [(\", PUNCT), (\\n\\n, SPACE), (Sanger, PROPN), (...   \n",
       "4999  [(Religious, ADJ), (right, NOUN), (will, AUX),...   \n",
       "\n",
       "                                                    ner  \\\n",
       "0     [(Geez, PERSON), (Marx, PERSON), (State, ORG),...   \n",
       "1                                  [(31/4/1, CARDINAL)]   \n",
       "2                                                    []   \n",
       "3                                                    []   \n",
       "4                                                    []   \n",
       "...                                                 ...   \n",
       "4995  [(Bduke, GPE), (2, CARDINAL), (Guiding, ORG), ...   \n",
       "4996                                     [(Slash, GPE)]   \n",
       "4997                                                 []   \n",
       "4998  [(Sanger & Sangists, ORG), (Wikipedia, ORG), (...   \n",
       "4999                                     [(Earth, LOC)]   \n",
       "\n",
       "                                       dependency_parse  \\\n",
       "0     [(Geez, intj, are), (,, punct, are), (are, ROO...   \n",
       "1     [(Carioca, compound, RFA), (RFA, compound, Tha...   \n",
       "2     [(\", punct, 's), (\\n\\n , dep, \"), (Birthday, c...   \n",
       "3     [(Pseudoscience, compound, category), (categor...   \n",
       "4     [((, punct, provided), (and, cc, provided), (i...   \n",
       "...                                                 ...   \n",
       "4995  [(\", punct, think), (\\n\\n, dep, \"), (In, prep,...   \n",
       "4996  [(\", punct, Support), (\\n, dep, \"), (Support, ...   \n",
       "4997  [(REDIRECT, compound, Talk), (Talk, ROOT, Talk...   \n",
       "4998  [(\", punct, added), (\\n\\n, dep, \"), (Sanger, n...   \n",
       "4999  [(Religious, amod, right), (right, nsubj, end)...   \n",
       "\n",
       "      sentiment_scores_polarity  sentiment_scores_subjectivity  \n",
       "0                 -8.333333e-03                       0.200000  \n",
       "1                  1.000000e-01                       0.600000  \n",
       "2                  3.250000e-01                       0.750000  \n",
       "3                  1.266667e-01                       0.398333  \n",
       "4                  0.000000e+00                       0.433333  \n",
       "...                         ...                            ...  \n",
       "4995              -3.965082e-18                       0.571429  \n",
       "4996               0.000000e+00                       0.100000  \n",
       "4997               0.000000e+00                       0.000000  \n",
       "4998               2.666667e-01                       0.550000  \n",
       "4999               2.285714e-01                       0.428571  \n",
       "\n",
       "[5000 rows x 16 columns]"
      ]
     },
     "execution_count": 109,
     "metadata": {},
     "output_type": "execute_result"
    }
   ],
   "source": [
    "df"
   ]
  },
  {
   "cell_type": "markdown",
   "id": "f12f4510",
   "metadata": {},
   "source": [
    "### Get the top occuring words in a dictionary\n",
    "I am skipping this for now but might want to revisit it later"
   ]
  },
  {
   "cell_type": "code",
   "execution_count": 104,
   "id": "0f9eebe1",
   "metadata": {},
   "outputs": [],
   "source": [
    "# stop_words = nlp.Defaults.stop_words  # Get the default stop words from spaCy\n",
    "\n",
    "# top_words_dict = {}\n",
    "\n",
    "# for label in labels:\n",
    "#     subset = df_train[df_train[label] == 1]  # Create a subset of the training data for the current label\n",
    "\n",
    "#     all_tokens = []  # List to hold all tokens for the current label\n",
    "#     subset['tokenised_text'].apply(lambda tokens: all_tokens.extend(\n",
    "#         [token for token in tokens if token not in stop_words]\n",
    "#     ))  # Extend the list with tokens from each comment\n",
    "\n",
    "#     common = Counter(all_tokens).most_common(20)\n",
    "#     top_words_dict[label] = [word for word, _ in common]  # Get the top 20 words for the current label\n",
    "\n",
    "# # top_words_dict = {}\n",
    "\n",
    "# # for label in labels:\n",
    "# #     subset = df_train[df_train[label] == 1] # Create a subset of the training data for the current label\n",
    "\n",
    "# #     tokenised_comments = []  # List to hold tokenised comments\n",
    "# #     # Clean and tokenise each comment in the subset\n",
    "# #     for comment in subset['comment_text']:\n",
    "# #         cleaned_comment = clean(comment)\n",
    "# #         tokenised_comment = tokenise(cleaned_comment)\n",
    "# #         tokenised_comments.extend(tokenised_comment)\n",
    "    \n",
    "# #     common = Counter(tokenised_comments).most_common(20) # Get the top 20 words for the current label\n",
    "# #     top_words_dict[label] =[word for word, _ in common]  \n",
    "\n",
    "# # top_words_df = pd.DataFrame.from_dict(top_words_dict, orient='index').transpose()\n",
    "# # top_words_df\n"
   ]
  },
  {
   "cell_type": "code",
   "execution_count": 105,
   "id": "cd390541",
   "metadata": {},
   "outputs": [],
   "source": [
    "# top_words_dict = pd.DataFrame.from_dict(top_words_dict, orient='index').transpose()\n",
    "# top_words_dict"
   ]
  },
  {
   "cell_type": "markdown",
   "id": "ea73f588",
   "metadata": {},
   "source": [
    "## Modelling"
   ]
  },
  {
   "cell_type": "markdown",
   "id": "a0048271",
   "metadata": {},
   "source": [
    "### TF-IDF (Term Frequency - Inverse Document Frequency)"
   ]
  },
  {
   "cell_type": "code",
   "execution_count": 131,
   "id": "38358c52",
   "metadata": {},
   "outputs": [],
   "source": [
    "# X is input features and y is the output labels\n",
    "\n",
    "df = df.dropna(subset=['cleaned_text'])\n",
    "X = df['cleaned_text']  # Features: cleaned text\n",
    "y = df[labels]  # Target labels\n",
    "\n",
    "X_train_lg, X_test_lg, y_train_lg, y_test_lg = train_test_split(\n",
    "        X, y, test_size=0.2, random_state=42\n",
    "    ) # Split the data into training and testing sets\n",
    "\n",
    "# Vectorise the text data using TF-IDF\n",
    "vectoriser = TfidfVectorizer(max_features=5000, ngram_range=(1, 2))\n",
    "X_train_vec = vectoriser.fit_transform(X_train_lg)  # Fit and transform the training data\n",
    "X_test_vec = vectoriser.transform(X_test_lg)  # Transform the testing data"
   ]
  },
  {
   "cell_type": "markdown",
   "id": "b4c314d1",
   "metadata": {},
   "source": [
    "## Models"
   ]
  },
  {
   "cell_type": "markdown",
   "id": "be6d437a",
   "metadata": {},
   "source": [
    "### Logistic Regression"
   ]
  },
  {
   "cell_type": "code",
   "execution_count": 141,
   "id": "ebd34a7e",
   "metadata": {},
   "outputs": [
    {
     "name": "stdout",
     "output_type": "stream",
     "text": [
      "               precision    recall  f1-score   support\n",
      "\n",
      "        toxic       0.57      0.64      0.60        91\n",
      " severe_toxic       0.07      0.17      0.10         6\n",
      "      obscene       0.86      0.70      0.77        53\n",
      "       threat       0.00      0.00      0.00         3\n",
      "       insult       0.58      0.70      0.64        44\n",
      "identity_hate       0.27      0.50      0.35        12\n",
      "\n",
      "    micro avg       0.56      0.64      0.60       209\n",
      "    macro avg       0.39      0.45      0.41       209\n",
      " weighted avg       0.61      0.64      0.61       209\n",
      "  samples avg       0.05      0.05      0.05       209\n",
      "\n",
      "Macro-average F1-score: 0.4106643394943221\n"
     ]
    }
   ],
   "source": [
    "model_lg = OneVsRestClassifier(LogisticRegression(max_iter=1000, random_state=42, class_weight='balanced'))  # Create a multi-label classifier\n",
    "model_lg.fit(X_train_vec, y_train_lg)  # Train the model on the training data\n",
    "\n",
    "y_pred_lg = model_lg.predict(X_test_vec)  # Make predictions on the test data\n",
    "\n",
    "# Some samples in your test set have no true labels (i.e. [0, 0, 0, 0, 0, 0]).\n",
    "# Your model also predicted nothing for those samples.\n",
    "# Metrics like precision/recall become \"undefined\" in those cases.\n",
    "# ✅ This is normal for multi-label tasks. You can safely suppress it by passing:\n",
    "print(classification_report(y_test_lg, y_pred_lg, target_names=labels, zero_division=0))\n",
    "print(\"Macro-average F1-score:\", f1_score(y_test_lg, y_pred_lg, average='macro'))"
   ]
  },
  {
   "cell_type": "markdown",
   "id": "fb068e21",
   "metadata": {},
   "source": [
    "## Visualisation"
   ]
  },
  {
   "cell_type": "code",
   "execution_count": 142,
   "id": "5306570e",
   "metadata": {},
   "outputs": [],
   "source": [
    "def plot_predictions(y_true, y_pred, labels, model_name):\n",
    "    \"\"\"Function to plot the predictions of the model.\n",
    "    Args:\n",
    "        y_true (pd.DataFrame): True labels.\n",
    "        y_pred (np.ndarray): Predicted labels.\n",
    "        labels (list): List of label names.\n",
    "    Returns: None, but displays a bar plot of the predictions.\"\"\"\n",
    "    \n",
    "    y_test_counts = np.sum(y_true.values, axis=0)\n",
    "    y_pred_counts = np.sum(y_pred, axis=0)\n",
    "\n",
    "    x = np.arange(len(labels))  # label positions\n",
    "\n",
    "    plt.figure(figsize=(10, 6))\n",
    "    plt.bar(x - 0.2, y_test_counts, width=0.4, label='True', color='skyblue')\n",
    "    plt.bar(x + 0.2, y_pred_counts, width=0.4, label='Predicted', color='salmon')\n",
    "\n",
    "    plt.xticks(x, labels, rotation=45)\n",
    "    plt.ylabel('Number of Samples')\n",
    "    plt.title('True vs Predicted Label Counts ' + model_name)\n",
    "    plt.legend()\n",
    "    plt.tight_layout()\n",
    "    plt.show()"
   ]
  },
  {
   "cell_type": "code",
   "execution_count": 143,
   "id": "3fb96b69",
   "metadata": {},
   "outputs": [
    {
     "data": {
      "image/png": "[encoded data removed]",
      "text/plain": [
       "<Figure size 1000x600 with 1 Axes>"
      ]
     },
     "metadata": {},
     "output_type": "display_data"
    }
   ],
   "source": [
    "plot_predictions(y_test_lg, y_pred_lg, labels, \"(Logistic Regression)\")"
   ]
  }
 ],
 "metadata": {
  "kernelspec": {
   "display_name": "Python 3 (ipykernel)",
   "language": "python",
   "name": "python3"
  },
  "language_info": {
   "codemirror_mode": {
    "name": "ipython",
    "version": 3
   },
   "file_extension": ".py",
   "mimetype": "text/x-python",
   "name": "python",
   "nbconvert_exporter": "python",
   "pygments_lexer": "ipython3",
   "version": "3.12.4"
  }
 },
 "nbformat": 4,
 "nbformat_minor": 5
}
